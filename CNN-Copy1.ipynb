{
 "cells": [
  {
   "cell_type": "code",
   "execution_count": 1,
   "id": "1b0a19d2-dd90-4ff7-b132-69699e6942c3",
   "metadata": {},
   "outputs": [],
   "source": [
    "import torch\n",
    "import torch.nn as nn\n",
    "import torch.nn.functional as F\n",
    "import torch.optim as optim\n",
    "from torch.utils.data import Dataset, DataLoader\n",
    "\n",
    "from torch.autograd import Variable\n",
    "import time\n",
    "\n",
    "import joblib"
   ]
  },
  {
   "cell_type": "code",
   "execution_count": 2,
   "id": "1367b4b3-6252-4fdf-9747-b5302dc2ebd2",
   "metadata": {},
   "outputs": [],
   "source": [
    "cuda = torch.cuda.is_available()"
   ]
  },
  {
   "cell_type": "code",
   "execution_count": 3,
   "id": "a3dafa5f-1db5-4352-af5d-5f7e77d8614a",
   "metadata": {},
   "outputs": [],
   "source": [
    "train_data = f'../ISMP/dataset/trainset_v2_500_label4.jb'"
   ]
  },
  {
   "cell_type": "code",
   "execution_count": 4,
   "id": "bb8ed976-8624-492f-b2d9-f75b60f1811d",
   "metadata": {},
   "outputs": [],
   "source": [
    "def num_flat_features(x):\n",
    "    size = x.size()[1:]  # all dimensions except the batch dimension\n",
    "    num_features = 1\n",
    "    for s in size:\n",
    "        num_features *= s\n",
    "    return num_features"
   ]
  },
  {
   "cell_type": "code",
   "execution_count": 5,
   "id": "ff13a4c6-396e-40e5-bd02-e5507b7d9bca",
   "metadata": {},
   "outputs": [],
   "source": [
    "X, y = joblib.load(train_data)"
   ]
  },
  {
   "cell_type": "code",
   "execution_count": 6,
   "id": "9f5f5762-104e-483f-a47a-8baafdc1cd0b",
   "metadata": {
    "tags": []
   },
   "outputs": [],
   "source": [
    "X = torch.tensor(X, dtype = torch.float)"
   ]
  },
  {
   "cell_type": "code",
   "execution_count": 7,
   "id": "e1830f00-23a8-439d-a962-98cb13fb9d65",
   "metadata": {},
   "outputs": [],
   "source": [
    "cnn1d = nn.Conv1d(3, 5, kernel_size=5)\n",
    "m = nn.MaxPool1d(5, stride=2)\n",
    "lin = nn.Linear(246 * 5, 2, bias=False)"
   ]
  },
  {
   "cell_type": "code",
   "execution_count": 8,
   "id": "06144ad1-cdd0-4a77-b835-5c945a86916c",
   "metadata": {},
   "outputs": [],
   "source": [
    "x = cnn1d(X)\n",
    "x = m(x)\n",
    "x = F.leaky_relu(x)\n",
    "x = x.view(-1, num_flat_features(x))\n",
    "x = lin(x)"
   ]
  },
  {
   "cell_type": "code",
   "execution_count": 9,
   "id": "a4a4b2dc-3ccb-4117-8e1b-ad4f1158d7d4",
   "metadata": {},
   "outputs": [
    {
     "data": {
      "text/plain": [
       "torch.Size([6900, 2])"
      ]
     },
     "execution_count": 9,
     "metadata": {},
     "output_type": "execute_result"
    }
   ],
   "source": [
    "x.shape"
   ]
  },
  {
   "cell_type": "code",
   "execution_count": null,
   "id": "1a6b7d0f-f3f4-4e3f-a00e-7a128b1e5dbe",
   "metadata": {},
   "outputs": [],
   "source": []
  }
 ],
 "metadata": {
  "kernelspec": {
   "display_name": "AIML",
   "language": "python",
   "name": "aiml"
  },
  "language_info": {
   "codemirror_mode": {
    "name": "ipython",
    "version": 3
   },
   "file_extension": ".py",
   "mimetype": "text/x-python",
   "name": "python",
   "nbconvert_exporter": "python",
   "pygments_lexer": "ipython3",
   "version": "3.8.12"
  }
 },
 "nbformat": 4,
 "nbformat_minor": 5
}
