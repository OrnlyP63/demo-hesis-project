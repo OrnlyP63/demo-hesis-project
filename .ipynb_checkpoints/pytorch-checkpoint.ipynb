{
 "cells": [
  {
   "cell_type": "code",
   "execution_count": 1,
   "id": "2effdb0e-1d31-4d7e-a248-7ca728a7d852",
   "metadata": {},
   "outputs": [],
   "source": [
    "from __future__ import print_function\n",
    "import argparse\n",
    "import torch\n",
    "import torch.utils.data.dataloader\n",
    "import torch.nn as nn\n",
    "import torch.nn.functional as F\n",
    "import torch.optim as optim\n",
    "from torchvision import datasets, transforms\n",
    "from torch.autograd import Variable\n",
    "import time\n",
    "#import torch.legacy.nn as legacy_nn"
   ]
  },
  {
   "cell_type": "code",
   "execution_count": 2,
   "id": "7365106d-9e80-4fb6-a2e2-9b3e4a955f7e",
   "metadata": {},
   "outputs": [],
   "source": [
    "from torch.utils.data import Dataset, DataLoader\n",
    "import joblib"
   ]
  },
  {
   "cell_type": "code",
   "execution_count": 3,
   "id": "faeb8984-3f32-4d1f-9db4-b6e09a8733fb",
   "metadata": {},
   "outputs": [],
   "source": [
    "cuda = torch.cuda.is_available()"
   ]
  },
  {
   "cell_type": "code",
   "execution_count": 4,
   "id": "5ea2f291-ff52-421f-af24-12ce43b4d78b",
   "metadata": {},
   "outputs": [],
   "source": [
    "class Net(nn.Module):\n",
    "    \n",
    "    def __init__(self,input_size, output_size, hidden_size = 3000, activation = 'leaky_relu'):\n",
    "        super(Net, self).__init__()\n",
    "        self.fc1 = nn.Linear(input_size, hidden_size)\n",
    "        self.activation = getattr(F, activation)\n",
    "        \n",
    "        if activation in ['relu', 'leaky_relu']:\n",
    "            torch.nn.init.xavier_uniform_(self.fc1.weight,gain=nn.init.calculate_gain(activation))\n",
    "        else:\n",
    "            torch.nn.init.xavier_uniform_(self.fc1.weight, gain=1)\n",
    "            \n",
    "        self.fc2 = nn.Linear(hidden_size, output_size, bias=False)\n",
    "        \n",
    "    def forward(self, x):\n",
    "        x = x.view(x.size(0), -1)\n",
    "        x = self.fc1(x)\n",
    "        x = self.activation(x)\n",
    "        x = self.fc2(x)\n",
    "\n",
    "        return x\n",
    "\n",
    "    def forwardToHidden(self, x): \n",
    "        x = x.view(x.size(0), -1)\n",
    "        x = self.fc1(x)\n",
    "        x = self.activation(x)\n",
    "\n",
    "        return x"
   ]
  },
  {
   "cell_type": "code",
   "execution_count": 5,
   "id": "f9f9c899-db78-48e2-9db3-c4830590df7e",
   "metadata": {},
   "outputs": [],
   "source": [
    "class pseudoInverse(object):\n",
    "    def __init__(self, params, C = 1e-2, forgettingfactor = 1, L = 100):\n",
    "        self.params = list(params)\n",
    "        self.is_cuda = self.params[len(self.params)-1].is_cuda\n",
    "        self.C = C\n",
    "        self.L = L\n",
    "        self.w = self.params[len(self.params)-1]\n",
    "        self.w.data.fill_(0)\n",
    "        self.dimInput = self.params[len(self.params)-1].data.size()[1]\n",
    "        self.dimOutput = self.params[len(self.params)-1].data.size()[0]\n",
    "        self.forgettingfactor = forgettingfactor\n",
    "\n",
    "        self.B = Variable(torch.inverse(self.C * torch.eye(self.dimInput)), requires_grad=False)\n",
    "        if self.is_cuda:\n",
    "            self.B = self.B.cuda()\n",
    "            \n",
    "    def initialize(self):\n",
    "        self.B = Variable(torch.inverse(self.C * torch.eye(self.dimInput)),requires_grad=False)\n",
    "        \n",
    "        if self.is_cuda:\n",
    "            self.B = self.B.cuda()\n",
    "        \n",
    "        self.w = self.params[len(self.params) - 1]\n",
    "        self.w.data.fill_(0)\n",
    "        \n",
    "    def pseudoSparse(self, H, Y):\n",
    "        print('Big')\n",
    "        hth = torch.mm(H.t(), H)\n",
    "        dimInput = H.size()[1]\n",
    "        I = Variable(torch.eye(dimInput), requires_grad = False)\n",
    "\n",
    "        if self.is_cuda:\n",
    "            I = I.cuda()\n",
    "\n",
    "        if self.L > 0.0:\n",
    "            mu = torch.mean(H, dim = 0, keepdim = True)\n",
    "            S = H  - mu\n",
    "            S = torch.mm(S.t(), S)\n",
    "            self.B = Variable(torch.inverse(hth.data + self.C * (I.data + self.L * S.data)),requires_grad=False)\n",
    "        else:\n",
    "            self.B = Variable(torch.inverse(hth.data + self.C *I.data), requires_grad=False)\n",
    "\n",
    "        w = torch.mm(self.B, H.t())\n",
    "        w = torch.mm(w, Y)\n",
    "        self.w.data = w.t().data\n",
    "\n",
    "    def pseudoCompress(self, H, Y):\n",
    "        print('small')\n",
    "        hht = torch.mm(H, H.t())\n",
    "        numSamples = H.size()[0]\n",
    "        I = Variable(torch.eye(numSamples), requires_grad=False)\n",
    "\n",
    "        if self.is_cuda:\n",
    "            I = I.cuda()\n",
    "        self.B = Variable(torch.inverse(hht.data + self.C * I.data), requires_grad=False)\n",
    "\n",
    "        w = torch.mm(H.t(), self.B)\n",
    "        w = torch.mm(w, Y)\n",
    "        self.w.data = w.t().data\n",
    "\n",
    "    def train(self, inputs, targets, oneHotVectorize=True):\n",
    "\n",
    "        targets = targets.view(targets.size(0),-1)\n",
    "\n",
    "        if oneHotVectorize:\n",
    "            targets=self.oneHotVectorize(targets=targets)\n",
    "\n",
    "        numSamples = inputs.size()[0]\n",
    "        dimInput = inputs.size()[1]\n",
    "        dimTarget = targets.size()[1]\n",
    "        \n",
    "        print(numSamples)\n",
    "        print(dimInput)\n",
    "        if numSamples > dimInput:\n",
    "            self.pseudoSparse(inputs, targets)\n",
    "        else:\n",
    "            self.pseudoCompress(inputs, targets)\n",
    "\n",
    "    def train_sequential(self, H, Y):\n",
    "        Y = Y.view(Y.size(0),-1)\n",
    "        oneHotTarget = self.oneHotVectorize(targets=Y)\n",
    "        numSamples = H.size()[0]\n",
    "        dimInput = H.size()[1]\n",
    "        dimTarget = oneHotTarget.size()[1]\n",
    "\n",
    "        if numSamples < dimInput:\n",
    "            I1 = Variable(torch.eye(dimInput))\n",
    "            if self.is_cuda:\n",
    "                I1 = I1.cuda()\n",
    "            hth = torch.mm(H.t(), H)\n",
    "            self.B = Variable(torch.inverse(hth.data + self.C * I1.data), requires_grad = False)\n",
    "\n",
    "        I = Variable(torch.eye(numSamples))\n",
    "        \n",
    "        if self.is_cuda:\n",
    "            I = I.cuda()\n",
    "\n",
    "        self.B = (1 / self.forgettingfactor) * self.B - torch.mm((1 / self.forgettingfactor) * self.B,\n",
    "                                             torch.mm(H.t(), torch.mm(Variable(torch.inverse(I.data + torch.mm(H, torch.mm((1/self.forgettingfactor) * self.B, H.t())).data), requires_grad=False),\n",
    "                                             torch.mm(H, (1/self.forgettingfactor) * self.B))))\n",
    "\n",
    "\n",
    "        self.w.data += torch.mm(self.B,torch.mm(H.t(),oneHotTarget - torch.mm(H, self.w.t()))).t().data\n",
    "\n",
    "    def oneHotVectorize(self,targets):\n",
    "        oneHotTarget = torch.zeros(targets.size()[0], self.dimOutput)\n",
    "\n",
    "        for i in range(targets.size()[0]):\n",
    "            oneHotTarget[i][int(targets[i].item())] = 1\n",
    "\n",
    "        if self.is_cuda:\n",
    "            oneHotTarget=oneHotTarget.cuda()\n",
    "            \n",
    "        oneHotTarget = Variable(oneHotTarget, requires_grad=False)\n",
    "\n",
    "        return oneHotTarget"
   ]
  },
  {
   "cell_type": "code",
   "execution_count": 6,
   "id": "109db2fa-d3db-46de-9c91-935edb6c0d2e",
   "metadata": {},
   "outputs": [],
   "source": [
    "class EQDataset(Dataset):\n",
    "    def __init__(self, data_dir, transform=None):\n",
    "        self.transform = transform\n",
    "        self.data_dir = data_dir\n",
    "        train_x, train_y = joblib.load(data_dir)\n",
    "        self.train_x, self.train_y = torch.Tensor(train_x[:, 2, :]), torch.Tensor(train_y)\n",
    "        self.len = self.train_x.shape[0]\n",
    "        \n",
    "    def __len__(self):\n",
    "        return self.len\n",
    "    \n",
    "    def __getitem__(self, idx):\n",
    "        \n",
    "        X = self.train_x[idx]\n",
    "        y = self.train_y[idx]\n",
    "\n",
    "        if self.transform:\n",
    "            X = self.transform(X)\n",
    "            \n",
    "        return X, y"
   ]
  },
  {
   "cell_type": "code",
   "execution_count": 7,
   "id": "a55e68b8-2b60-4f86-9a8e-f018f07c27a0",
   "metadata": {},
   "outputs": [],
   "source": [
    "def test(model, test_loader):\n",
    "    model.train()\n",
    "    correct = 0\n",
    "    for data, target in test_loader:\n",
    "        if cuda:\n",
    "            data, target = data.cuda(), target.cuda()\n",
    "            \n",
    "        data, target = Variable(data,requires_grad=False), Variable(target,requires_grad=False)\n",
    "        output = model.forward(data)\n",
    "        pred = output.data.max(1)[1]\n",
    "        correct += pred.eq(target.data).cpu().sum()\n",
    "        \n",
    "    print('\\nTest set accuracy: {}/{} ({:.2f}%)\\n'.format(\n",
    "        correct, len(test_loader.dataset),\n",
    "        100. * correct / len(test_loader.dataset)))"
   ]
  },
  {
   "cell_type": "code",
   "execution_count": 8,
   "id": "8a394bc0-ab42-4a49-9916-a51475b83faa",
   "metadata": {},
   "outputs": [],
   "source": [
    "def train_sequential(model, optimizer, train_loader, test_loader, starting_batch_index=0, correct=None):\n",
    "    model.train()\n",
    "    correct = correct\n",
    "    for batch_idx, (data, target) in enumerate(train_loader):\n",
    "        if batch_idx >= starting_batch_index:\n",
    "            if cuda:\n",
    "                data, target = data.cuda(), target.cuda()\n",
    "            data, target = Variable(data), Variable(target)\n",
    "            hiddenOut = model.forwardToHidden(data)\n",
    "            optimizer.train_sequential(hiddenOut, target)\n",
    "\n",
    "            output = model.forward(data)\n",
    "            pred = output.data.max(1)[1]\n",
    "            correct += pred.eq(target.data).cpu().sum()\n",
    "            print('*'*100)\n",
    "            print('\\n{}st Batch train set accuracy: {}/{} ({:.2f}%)\\n'.format(batch_idx,correct,\n",
    "                                                                              (train_loader.batch_size * (batch_idx + 1 )),\n",
    "                                                                              100. * correct / (train_loader.batch_size * (batch_idx + 1 ))))\n",
    "\n",
    "            test(model, test_loader)"
   ]
  },
  {
   "cell_type": "markdown",
   "id": "faf32cb6-95c6-4287-b82b-c655d42697bd",
   "metadata": {},
   "source": [
    "# Data"
   ]
  },
  {
   "cell_type": "code",
   "execution_count": 9,
   "id": "2f672f40-2948-462d-8cff-60a27975eda8",
   "metadata": {},
   "outputs": [],
   "source": [
    "n = 500\n",
    "train_data = f'../ISMP/dataset/trainset_v2_{n}_label4.jb'\n",
    "test_data = f'../ISMP/dataset/testset_v2_{n}_label4.jb'\n",
    "\n",
    "train_dataset = EQDataset(train_data)\n",
    "test_dataset = EQDataset(test_data)"
   ]
  },
  {
   "cell_type": "code",
   "execution_count": 10,
   "id": "5cbe588a-e51f-42d1-afe4-3310723f5762",
   "metadata": {},
   "outputs": [],
   "source": [
    "model = Net(500, 2, hidden_size = 1000)\n",
    "if cuda:\n",
    "    model.cuda()\n",
    "optimizer = pseudoInverse(params = model.parameters(), C = 1, L = 1, forgettingfactor=1)"
   ]
  },
  {
   "cell_type": "code",
   "execution_count": 11,
   "id": "e57085a2-01a2-4c48-81a3-d7910186408f",
   "metadata": {
    "tags": []
   },
   "outputs": [],
   "source": [
    "# with torch.no_grad():\n",
    "#     train_sequential(model, optimizer, train_loader, test_loader, starting_batch_index=0, correct=0)"
   ]
  },
  {
   "cell_type": "code",
   "execution_count": 12,
   "id": "21696e92-d337-4b22-831b-466100bbc19b",
   "metadata": {},
   "outputs": [],
   "source": [
    "train_loader = DataLoader(dataset = train_dataset, batch_size = 6900, shuffle=True)\n",
    "test_loader = DataLoader(dataset = test_dataset, batch_size = 1726)"
   ]
  },
  {
   "cell_type": "code",
   "execution_count": 13,
   "id": "853ee0fa-c378-44bc-b0c2-9c0f727d748b",
   "metadata": {},
   "outputs": [
    {
     "name": "stdout",
     "output_type": "stream",
     "text": [
      "6900\n",
      "6900\n",
      "small\n"
     ]
    }
   ],
   "source": [
    "model.train()\n",
    "correct = 0\n",
    "for data, target in train_loader:\n",
    "    if cuda:\n",
    "        data, target = data.cuda(), target.cuda()\n",
    "    data, target = Variable(data), Variable(target)\n",
    "    hiddenOut = model.forwardToHidden(data)\n",
    "    optimizer.train(hiddenOut, target)\n",
    "    output = model.forward(data)\n",
    "    pred = output.data.max(1)[1]\n",
    "    correct += pred.eq(target.data).cpu().sum()"
   ]
  },
  {
   "cell_type": "code",
   "execution_count": 14,
   "id": "222388fb-ea2a-4d55-aed7-2f1030b3f45e",
   "metadata": {},
   "outputs": [
    {
     "data": {
      "text/plain": [
       "tensor(3453)"
      ]
     },
     "execution_count": 14,
     "metadata": {},
     "output_type": "execute_result"
    }
   ],
   "source": [
    "correct"
   ]
  },
  {
   "cell_type": "code",
   "execution_count": 15,
   "id": "042466a2-12c2-4524-b728-af6ef00b39a1",
   "metadata": {},
   "outputs": [],
   "source": [
    "#model.train()\n",
    "correct = 0\n",
    "for data, target in test_loader:\n",
    "    if cuda:\n",
    "        data, target = data.cuda(), target.cuda()\n",
    "\n",
    "    data, target = Variable(data,requires_grad=False), Variable(target,requires_grad=False)\n",
    "    output = model.forward(data)\n",
    "    pred = output.data.max(1)[1]\n",
    "    correct += pred.eq(target.data).cpu().sum()"
   ]
  },
  {
   "cell_type": "code",
   "execution_count": 16,
   "id": "e01477ec-1faa-4855-b609-dbb102ac467f",
   "metadata": {},
   "outputs": [
    {
     "data": {
      "text/plain": [
       "tensor(867)"
      ]
     },
     "execution_count": 16,
     "metadata": {},
     "output_type": "execute_result"
    }
   ],
   "source": [
    "correct"
   ]
  },
  {
   "cell_type": "code",
   "execution_count": 17,
   "id": "7b55d071-ae91-4425-9400-ead5faf02b84",
   "metadata": {},
   "outputs": [
    {
     "data": {
      "text/plain": [
       "tensor([0, 0, 0,  ..., 0, 0, 0], device='cuda:0')"
      ]
     },
     "execution_count": 17,
     "metadata": {},
     "output_type": "execute_result"
    }
   ],
   "source": [
    "pred"
   ]
  },
  {
   "cell_type": "code",
   "execution_count": 18,
   "id": "8b935a4c-44fb-443b-bcc4-3bf2a7360291",
   "metadata": {},
   "outputs": [],
   "source": [
    "# train_loader = DataLoader(dataset = train_dataset, batch_size = 100, shuffle=True)\n",
    "# test_loader = DataLoader(dataset = test_dataset, batch_size = 1)"
   ]
  },
  {
   "cell_type": "code",
   "execution_count": 19,
   "id": "dcd1d429-fb2d-4041-8714-6647a0ac8eba",
   "metadata": {
    "tags": []
   },
   "outputs": [],
   "source": [
    "# for batch_idx, (data, target) in enumerate(train_loader):\n",
    "#     data, target = data.cuda(), target.cuda()\n",
    "#     data, target = Variable(data, volatile=True), Variable(target)\n",
    "#     output = model.forward(data)\n",
    "#     print(output.data.max(1)[1])"
   ]
  },
  {
   "cell_type": "code",
   "execution_count": 20,
   "id": "14967b2e-8ace-47b3-bab5-c5a1e8df9adf",
   "metadata": {},
   "outputs": [
    {
     "data": {
      "text/plain": [
       "0.7775202780996524"
      ]
     },
     "execution_count": 20,
     "metadata": {},
     "output_type": "execute_result"
    }
   ],
   "source": [
    "1342 / 1726"
   ]
  },
  {
   "cell_type": "code",
   "execution_count": null,
   "id": "c1be7e69-962c-46c8-bf56-032a1d6d8534",
   "metadata": {},
   "outputs": [],
   "source": []
  }
 ],
 "metadata": {
  "kernelspec": {
   "display_name": "AIML",
   "language": "python",
   "name": "aiml"
  },
  "language_info": {
   "codemirror_mode": {
    "name": "ipython",
    "version": 3
   },
   "file_extension": ".py",
   "mimetype": "text/x-python",
   "name": "python",
   "nbconvert_exporter": "python",
   "pygments_lexer": "ipython3",
   "version": "3.8.12"
  }
 },
 "nbformat": 4,
 "nbformat_minor": 5
}
