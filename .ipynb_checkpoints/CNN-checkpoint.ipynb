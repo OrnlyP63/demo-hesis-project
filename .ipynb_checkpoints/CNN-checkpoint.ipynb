{
 "cells": [
  {
   "cell_type": "code",
   "execution_count": 6,
   "id": "1b0a19d2-dd90-4ff7-b132-69699e6942c3",
   "metadata": {},
   "outputs": [],
   "source": [
    "import torch\n",
    "import torch.nn as nn\n",
    "import torch.nn.functional as F\n",
    "import torch.optim as optim\n",
    "from torch.utils.data import Dataset, DataLoader\n",
    "\n",
    "from torch.autograd import Variable\n",
    "import time\n",
    "\n",
    "import joblib"
   ]
  },
  {
   "cell_type": "code",
   "execution_count": 7,
   "id": "a3dafa5f-1db5-4352-af5d-5f7e77d8614a",
   "metadata": {},
   "outputs": [],
   "source": [
    "train_data = f'../ISMP/dataset/trainset_v2_500_label4.jb'"
   ]
  },
  {
   "cell_type": "code",
   "execution_count": 8,
   "id": "bb8ed976-8624-492f-b2d9-f75b60f1811d",
   "metadata": {},
   "outputs": [],
   "source": [
    "def num_flat_features(x):\n",
    "    size = x.size()[1:]  # all dimensions except the batch dimension\n",
    "    num_features = 1\n",
    "    for s in size:\n",
    "        num_features *= s\n",
    "    return num_features"
   ]
  },
  {
   "cell_type": "code",
   "execution_count": 9,
   "id": "ff13a4c6-396e-40e5-bd02-e5507b7d9bca",
   "metadata": {},
   "outputs": [],
   "source": [
    "X, y = joblib.load(train_data)"
   ]
  },
  {
   "cell_type": "code",
   "execution_count": 10,
   "id": "9f5f5762-104e-483f-a47a-8baafdc1cd0b",
   "metadata": {
    "tags": []
   },
   "outputs": [],
   "source": [
    "X = torch.tensor(X, dtype = torch.float)"
   ]
  },
  {
   "cell_type": "code",
   "execution_count": 11,
   "id": "e1830f00-23a8-439d-a962-98cb13fb9d65",
   "metadata": {},
   "outputs": [],
   "source": [
    "cnn1d = nn.Conv1d(3, 5, kernel_size=5)\n",
    "m = nn.MaxPool1d(5, stride=2)\n",
    "lin = nn.Linear(246 * 5, 2, bias=False)"
   ]
  },
  {
   "cell_type": "code",
   "execution_count": 12,
   "id": "06144ad1-cdd0-4a77-b835-5c945a86916c",
   "metadata": {},
   "outputs": [],
   "source": [
    "x = cnn1d(X)\n",
    "x = m(x)\n",
    "x = F.leaky_relu(x)\n",
    "x = x.view(-1, num_flat_features(x))\n",
    "x = lin(x)"
   ]
  },
  {
   "cell_type": "code",
   "execution_count": 13,
   "id": "a4a4b2dc-3ccb-4117-8e1b-ad4f1158d7d4",
   "metadata": {},
   "outputs": [
    {
     "data": {
      "text/plain": [
       "torch.Size([6900, 2])"
      ]
     },
     "execution_count": 13,
     "metadata": {},
     "output_type": "execute_result"
    }
   ],
   "source": [
    "x.shape"
   ]
  },
  {
   "cell_type": "markdown",
   "id": "d6def6ab-1cbf-4b83-95ff-53b7be1c89ea",
   "metadata": {},
   "source": [
    "# Data"
   ]
  },
  {
   "cell_type": "code",
   "execution_count": 15,
   "id": "7b58a490-4864-4b2c-adfb-ab829c593a6f",
   "metadata": {},
   "outputs": [],
   "source": [
    "class EQDataset(Dataset):\n",
    "    def __init__(self, data_dir, transform=None):\n",
    "        self.transform = transform\n",
    "        self.data_dir = data_dir\n",
    "        train_x, train_y = joblib.load(data_dir)\n",
    "        self.train_x, self.train_y = torch.Tensor(train_x, dtype = torch.float), torch.Tensor(train_y, dtype = torch.float)\n",
    "        self.len = self.train_x.shape[0]\n",
    "        \n",
    "    def __len__(self):\n",
    "        return self.len\n",
    "    \n",
    "    def __getitem__(self, idx):\n",
    "        \n",
    "        X = self.train_x[idx]\n",
    "        y = self.train_y[idx]\n",
    "\n",
    "        if self.transform:\n",
    "            X = self.transform(X)\n",
    "            \n",
    "        return X, y"
   ]
  },
  {
   "cell_type": "code",
   "execution_count": 16,
   "id": "0be04c32-e7b4-4802-bb48-396358b6ed00",
   "metadata": {},
   "outputs": [],
   "source": [
    "class Net(nn.Module):\n",
    "    def __init__(self):\n",
    "        super(Net, self).__init__()\n",
    "        self.conv1 = nn.Conv1d(3, 5, kernel_size=5)\n",
    "        self.maxP1 = nn.MaxPool1d(5, stride=2)\n",
    "        self.lin = nn.Linear(246 * 5, 2, bias=False)\n",
    "        \n",
    "    def forward(self, x):\n",
    "        x = self.conv1(x)\n",
    "        x = self.maxP1(x)\n",
    "        x = F.leaky_relu(x)\n",
    "        x = x.view(-1, self.num_flat_features(x))\n",
    "        x = self.lin(x)\n",
    "        \n",
    "        return x\n",
    "    \n",
    "    def forwardToHidden(self, x):\n",
    "        x = self.conv1(x)\n",
    "        x = self.maxP1(x)\n",
    "        x = F.leaky_relu(x)\n",
    "        x = x.view(-1, self.num_flat_features(x))\n",
    "        \n",
    "        return x\n",
    "    \n",
    "    def num_flat_features(self, x):\n",
    "        size = x.size()[1:]  # all dimensions except the batch dimension\n",
    "        num_features = 1\n",
    "        for s in size:\n",
    "            num_features *= s\n",
    "        return num_features"
   ]
  },
  {
   "cell_type": "code",
   "execution_count": 17,
   "id": "786c7daf-986b-4f80-a037-482fd94ea1a0",
   "metadata": {},
   "outputs": [],
   "source": [
    "model = Net()"
   ]
  },
  {
   "cell_type": "code",
   "execution_count": 30,
   "id": "5d7b9d5d-2e74-4095-8a5a-79af79e7a79e",
   "metadata": {},
   "outputs": [
    {
     "data": {
      "text/plain": [
       "Net(\n",
       "  (conv1): Conv1d(3, 5, kernel_size=(5,), stride=(1,))\n",
       "  (maxP1): MaxPool1d(kernel_size=5, stride=2, padding=0, dilation=1, ceil_mode=False)\n",
       "  (lin): Linear(in_features=1230, out_features=2, bias=False)\n",
       ")"
      ]
     },
     "execution_count": 30,
     "metadata": {},
     "output_type": "execute_result"
    }
   ],
   "source": [
    "model"
   ]
  },
  {
   "cell_type": "code",
   "execution_count": 27,
   "id": "01caf03f-1775-4d25-b680-87c1049bb0e6",
   "metadata": {},
   "outputs": [
    {
     "data": {
      "text/plain": [
       "torch.Size([5, 3, 5])"
      ]
     },
     "execution_count": 27,
     "metadata": {},
     "output_type": "execute_result"
    }
   ],
   "source": [
    "list(model.parameters())[0].shape"
   ]
  },
  {
   "cell_type": "code",
   "execution_count": 28,
   "id": "6ed55483-14b4-4295-ba74-463da8eb0003",
   "metadata": {},
   "outputs": [
    {
     "data": {
      "text/plain": [
       "torch.Size([5])"
      ]
     },
     "execution_count": 28,
     "metadata": {},
     "output_type": "execute_result"
    }
   ],
   "source": [
    "list(model.parameters())[1].shape"
   ]
  },
  {
   "cell_type": "code",
   "execution_count": 29,
   "id": "57a3941e-0c07-4588-b277-da293b782c3c",
   "metadata": {},
   "outputs": [
    {
     "data": {
      "text/plain": [
       "torch.Size([2, 1230])"
      ]
     },
     "execution_count": 29,
     "metadata": {},
     "output_type": "execute_result"
    }
   ],
   "source": [
    "list(model.parameters())[2].shape"
   ]
  },
  {
   "cell_type": "code",
   "execution_count": null,
   "id": "8a8c2c57-b1d9-4118-9532-c25fc6d115eb",
   "metadata": {},
   "outputs": [],
   "source": [
    "class pseudoInverse(object):\n",
    "    def __init__(self, params, C=1e-2, L =100):\n",
    "        self.params = list(params)\n",
    "        self.w = list(params)[-1]\n",
    "        self.w.data.fill_(0)"
   ]
  }
 ],
 "metadata": {
  "kernelspec": {
   "display_name": "AIML",
   "language": "python",
   "name": "aiml"
  },
  "language_info": {
   "codemirror_mode": {
    "name": "ipython",
    "version": 3
   },
   "file_extension": ".py",
   "mimetype": "text/x-python",
   "name": "python",
   "nbconvert_exporter": "python",
   "pygments_lexer": "ipython3",
   "version": "3.8.12"
  }
 },
 "nbformat": 4,
 "nbformat_minor": 5
}
