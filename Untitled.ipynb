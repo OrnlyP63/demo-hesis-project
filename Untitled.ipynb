{
 "cells": [
  {
   "cell_type": "code",
   "execution_count": 1,
   "id": "f6a14667-4d8b-4085-8067-c07c19af82f9",
   "metadata": {},
   "outputs": [],
   "source": [
    "%load_ext memory_profiler"
   ]
  },
  {
   "cell_type": "code",
   "execution_count": 2,
   "id": "b910610e-c16e-4b8a-8a2d-20efeb373b21",
   "metadata": {},
   "outputs": [],
   "source": [
    "import joblib\n",
    "import numpy as np\n",
    "import scipy as sp\n",
    "\n",
    "import seaborn as sns\n",
    "import matplotlib.pyplot as plt\n",
    "from itertools import product"
   ]
  },
  {
   "cell_type": "code",
   "execution_count": 3,
   "id": "77d180a1-09d2-447e-8474-b366f9659c1c",
   "metadata": {},
   "outputs": [],
   "source": [
    "from sklearn.metrics import confusion_matrix"
   ]
  },
  {
   "cell_type": "code",
   "execution_count": 4,
   "id": "94eaa767-a6cb-4fa6-8f10-e1bb810f6d51",
   "metadata": {},
   "outputs": [],
   "source": [
    "from sklearn.decomposition import TruncatedSVD"
   ]
  },
  {
   "cell_type": "markdown",
   "id": "90824ef8-7a64-4f04-830e-43ebcb861cf6",
   "metadata": {},
   "source": [
    "# Model"
   ]
  },
  {
   "cell_type": "code",
   "execution_count": 5,
   "id": "08b35d1c-d1e1-41aa-8a61-c84aacec4ff1",
   "metadata": {},
   "outputs": [],
   "source": [
    "def sigmoid(x, w, c):\n",
    "    data = 1 / (1 + np.exp(-(np.dot(x, w) + c)))\n",
    "    return np.array(data, dtype=float)\n",
    "\n",
    "def gaussian(x, w, c):\n",
    "    return np.exp(-c * np.linalg.norm(x - w))\n",
    "\n",
    "def hyperbolic_tangent(x, w, c):\n",
    "    return (1 - np.exp(-(np.dot(w, x) + c)))/(1 + np.exp(-(np.dot(x, w) + c)))\n",
    "\n",
    "def sigmoid_2(x):\n",
    "    z = np.exp(-x)\n",
    "    return 1 / (1 + z)\n",
    "\n",
    "def der_leaky_ReLU(x, w, c):\n",
    "    values = np.dot(x, w) + c\n",
    "    leaky_way1 = np.where(values > 0, values, 0) \n",
    "    return np.array(leaky_way1, dtype=float)\n",
    "\n",
    "# def der_leaky_ReLU(values):\n",
    "#     leaky_way1 = np.where(values > 0, values, 0) \n",
    "#     return np.array(leaky_way1, dtype=float)"
   ]
  },
  {
   "cell_type": "code",
   "execution_count": 6,
   "id": "09779f31-33f8-4b81-92da-262e5d1d2088",
   "metadata": {},
   "outputs": [],
   "source": [
    "#Get function\n",
    "def getActivation(name):\n",
    "    return {\n",
    "        'sigmoid': sigmoid,\n",
    "        'sigmoid_2': sigmoid_2,\n",
    "        'gaussian': gaussian,\n",
    "        'hyperbolic_tangent': hyperbolic_tangent,\n",
    "        'relu':der_leaky_ReLU,\n",
    "    }[name]"
   ]
  },
  {
   "cell_type": "code",
   "execution_count": 7,
   "id": "e2f461d9-2c95-4a4d-a38c-a512d841d64d",
   "metadata": {},
   "outputs": [],
   "source": [
    "class ELM:\n",
    "    def __init__ (self,num_hidden, activation='relu'):\n",
    "        self.activation = getActivation(activation)\n",
    "        self.L = num_hidden\n",
    "        \n",
    "\n",
    "    def fit(self,  X,  y, C=1):\n",
    "        self.X = X\n",
    "        self.Y = y\n",
    "        self.M = X.shape[1]\n",
    "        #self.I = np.eye(self.M, self.M) \n",
    "        self.I = np.eye(self.L, self.L)\n",
    "        self.w =  np.random.normal(size=(self.M, self.L))\n",
    "        self.c = np.random.normal(size=(self.L))\n",
    "        self.C = C\n",
    "        \n",
    "        self.H = self.activation(self.X, self.w, self.c)\n",
    "        #self.H = self.activation(self.svd.fit_transform(self.X))\n",
    "        self.Beta = np.linalg.inv(self.H.T @ self.H + self.I /self.C) @ self.H.T @ self.Y\n",
    "        #self.Beta = self.H.T @ np.linalg.inv(self.H @ self.H.T + self.I /self.C) @ self.Y\n",
    "    def predict(self, X):\n",
    "        H_pre = self.activation(X, self.w, self.c)\n",
    "        #H_pre = self.activation(self.svd.transform(X))\n",
    "        return H_pre @ self.Beta"
   ]
  },
  {
   "cell_type": "code",
   "execution_count": 8,
   "id": "d6fecfed-1c52-41e2-bd0c-d6ae92e305b4",
   "metadata": {},
   "outputs": [],
   "source": [
    "# def softmax(x):\n",
    "#     c = np.max(x, axis=-1).reshape(-1, 1)\n",
    "#     upper = np.exp(x - c)\n",
    "#     lower = np.sum(upper, axis=-1).reshape(-1, 1)\n",
    "#     return upper / lower"
   ]
  },
  {
   "cell_type": "code",
   "execution_count": 9,
   "id": "cb73146c-6dfe-4fad-b487-29b8b35f4d14",
   "metadata": {},
   "outputs": [],
   "source": [
    "def logist(x):\n",
    "    return 1 / (1 + np.exp(-x))"
   ]
  },
  {
   "cell_type": "markdown",
   "id": "37311141-c145-4e49-92a1-c07f3a10fda0",
   "metadata": {},
   "source": [
    "# 500"
   ]
  },
  {
   "cell_type": "code",
   "execution_count": 10,
   "id": "96f12f47-75b7-4091-b5f7-9c0a3bd0ec60",
   "metadata": {},
   "outputs": [],
   "source": [
    "n = 500\n",
    "train_data = f'../ISMP/dataset/trainset_v2_{n}_label4.jb'\n",
    "\n",
    "test_data = f'../ISMP/dataset/testset_v2_{n}_label4.jb'\n",
    "\n",
    "train_x, train_y = joblib.load(train_data)\n",
    "test_x, test_y = joblib.load(test_data)\n",
    "\n",
    "# train_x = train_x.reshape((6900, 3 * n))\n",
    "# test_x = test_x.reshape((1726, 3 * n))\n",
    "train_x = train_x[:, 2, :]\n",
    "test_x = test_x[:, 2, :]"
   ]
  },
  {
   "cell_type": "code",
   "execution_count": 11,
   "id": "7990fc08-aa0e-4cd0-866f-f5697a96eb6d",
   "metadata": {},
   "outputs": [],
   "source": [
    "# b = np.zeros((train_y.size, 2))\n",
    "# b[np.arange(train_y.size), train_y.astype(int)] = 1"
   ]
  },
  {
   "cell_type": "code",
   "execution_count": 26,
   "id": "5a79b06a-0db6-4f9e-9ba5-493cf9f85b70",
   "metadata": {},
   "outputs": [
    {
     "data": {
      "text/plain": [
       "0.8267670915411356"
      ]
     },
     "execution_count": 26,
     "metadata": {},
     "output_type": "execute_result"
    }
   ],
   "source": [
    "model = ELM(800)\n",
    "model.fit(train_x, train_y, C = 0.0001)\n",
    "y_pred_train = model.predict(train_x)\n",
    "y_pred_ = model.predict(test_x)\n",
    "y_pred = y_pred_ > y_pred_train.mean()\n",
    "sum(y_pred == test_y) / y_pred.shape[0]"
   ]
  },
  {
   "cell_type": "code",
   "execution_count": 13,
   "id": "9151b492-990d-4eae-9f64-294889a98526",
   "metadata": {},
   "outputs": [
    {
     "data": {
      "text/plain": [
       "0.39874433521539243"
      ]
     },
     "execution_count": 13,
     "metadata": {},
     "output_type": "execute_result"
    }
   ],
   "source": [
    "y_pred_train.mean()"
   ]
  },
  {
   "cell_type": "code",
   "execution_count": 14,
   "id": "b566efc8-07c7-46ff-8511-86d022dfe27b",
   "metadata": {},
   "outputs": [
    {
     "data": {
      "text/plain": [
       "array([[820,  43],\n",
       "       [248, 615]], dtype=int64)"
      ]
     },
     "execution_count": 14,
     "metadata": {},
     "output_type": "execute_result"
    }
   ],
   "source": [
    "confusion_matrix(test_y, y_pred)"
   ]
  },
  {
   "cell_type": "code",
   "execution_count": 15,
   "id": "cf63a9e1-0fbb-40f1-a4be-03bd8317c350",
   "metadata": {
    "jp-MarkdownHeadingCollapsed": true,
    "tags": []
   },
   "outputs": [],
   "source": [
    "### mylists = [[0.3, 0.4, 0.5, 0.6, 0.7], [1000, 2000, 3000, 4000]]\n",
    "# b = np.zeros((train_y.size, 2))\n",
    "# b[np.arange(train_y.size), train_y.astype(int)] = 1\n",
    "\n",
    "# for elem in product(*mylists):\n",
    "#     model = ELM(elem[1])\n",
    "#     model.fit(train_x, b, C=elem[0])\n",
    "#     y_pred = model.predict(test_x) > 0.5\n",
    "#     y_pred = np.argmax(softmax(y_pred), axis=1)\n",
    "#     print(sum(y_pred == test_y) / y_pred.shape[0], elem)"
   ]
  },
  {
   "cell_type": "code",
   "execution_count": 16,
   "id": "f654d2fa-458c-4883-ac99-0d97a833880a",
   "metadata": {},
   "outputs": [],
   "source": [
    "# mylists = [[0.3, 0.4, 0.5, 0.6, 0.7], [1000, 2000, 3000, 4000]]\n",
    "# b = np.zeros((train_y.size, 2))\n",
    "# b[np.arange(train_y.size), train_y.astype(int)] = 1\n",
    "\n",
    "# for elem in product(*mylists):\n",
    "#     model = ELM(elem[1])\n",
    "#     model.fit(train_x, train_y, C=elem[0])\n",
    "#     y_pred = model.predict(test_x) > 0.5\n",
    "#     print(sum(y_pred == test_y) / y_pred.shape[0], elem)"
   ]
  },
  {
   "cell_type": "markdown",
   "id": "6cfc6b83-b87e-41b3-8536-22144592bc8a",
   "metadata": {},
   "source": [
    "# Unsuper"
   ]
  },
  {
   "cell_type": "code",
   "execution_count": 17,
   "id": "9df8db43-d6da-42f3-a733-2f0f14ead2bd",
   "metadata": {},
   "outputs": [],
   "source": [
    "from sklearn.feature_selection import mutual_info_classif as MIC"
   ]
  },
  {
   "cell_type": "code",
   "execution_count": 18,
   "id": "01c3297a-94d1-4223-866e-0414e85517d8",
   "metadata": {
    "tags": []
   },
   "outputs": [],
   "source": [
    "mi_score = MIC(train_x, train_y)\n",
    "#print(mi_score)"
   ]
  },
  {
   "cell_type": "code",
   "execution_count": 19,
   "id": "8ef97b95-caf1-457d-b110-b7400041a3a5",
   "metadata": {},
   "outputs": [],
   "source": [
    "train_x = train_x[:, np.where(mi_score > 0.35)[0]]\n",
    "test_x = test_x[:, np.where(mi_score > 0.35)[0]]"
   ]
  },
  {
   "cell_type": "code",
   "execution_count": 20,
   "id": "e2c669ac-4ea1-422b-85bc-3ac55b3256cb",
   "metadata": {},
   "outputs": [
    {
     "data": {
      "text/plain": [
       "0.7421784472769409"
      ]
     },
     "execution_count": 20,
     "metadata": {},
     "output_type": "execute_result"
    }
   ],
   "source": [
    "model = ELM(3500)\n",
    "model.fit(train_x, train_y, C=1)\n",
    "y_pred_train = model.predict(train_x)\n",
    "y_pred_ = model.predict(test_x)\n",
    "y_pred = y_pred_ > 0.5 #y_pred_train.mean()\n",
    "sum(y_pred == test_y) / y_pred.shape[0]"
   ]
  },
  {
   "cell_type": "code",
   "execution_count": 21,
   "id": "814df3fd-9204-4dc1-89af-c96cde36eb78",
   "metadata": {},
   "outputs": [
    {
     "data": {
      "text/plain": [
       "array([[789,  74],\n",
       "       [371, 492]], dtype=int64)"
      ]
     },
     "execution_count": 21,
     "metadata": {},
     "output_type": "execute_result"
    }
   ],
   "source": [
    "confusion_matrix(test_y, y_pred)"
   ]
  }
 ],
 "metadata": {
  "kernelspec": {
   "display_name": "seismic",
   "language": "python",
   "name": "seismic"
  },
  "language_info": {
   "codemirror_mode": {
    "name": "ipython",
    "version": 3
   },
   "file_extension": ".py",
   "mimetype": "text/x-python",
   "name": "python",
   "nbconvert_exporter": "python",
   "pygments_lexer": "ipython3",
   "version": "3.8.12"
  }
 },
 "nbformat": 4,
 "nbformat_minor": 5
}
